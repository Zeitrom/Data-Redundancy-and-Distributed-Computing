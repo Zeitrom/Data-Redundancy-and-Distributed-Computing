{
  "nbformat": 4,
  "nbformat_minor": 0,
  "metadata": {
    "colab": {
      "provenance": []
    },
    "kernelspec": {
      "name": "python3",
      "display_name": "Python 3"
    },
    "language_info": {
      "name": "python"
    }
  },
  "cells": [
    {
      "cell_type": "code",
      "execution_count": 1,
      "metadata": {
        "id": "sQGG15WklysD"
      },
      "outputs": [],
      "source": [
        "import numpy as np\n",
        "import pandas as pd\n",
        "from sklearn.model_selection import train_test_split\n",
        "from sklearn.linear_model import LinearRegression\n",
        "from sklearn.metrics import mean_squared_error, r2_score\n",
        "from flask import Flask, request, jsonify"
      ]
    },
    {
      "cell_type": "code",
      "source": [
        "# Chargement et nettoyage des données\n",
        "data = pd.read_csv('Housing.csv').dropna()\n",
        "categorical_vars = ['mainroad', 'guestroom', 'basement', 'hotwaterheating', 'airconditioning', 'prefarea']\n",
        "data[categorical_vars] = data[categorical_vars].apply(lambda x: x.map({'yes': 1, 'no': 0}))\n",
        "data['furnishingstatus'] = data['furnishingstatus'].map({'furnished': 1, 'semi-furnished': 0, 'unfurnished': 0})"
      ],
      "metadata": {
        "id": "RLJkKE6RlzvS"
      },
      "execution_count": 2,
      "outputs": []
    },
    {
      "cell_type": "code",
      "source": [
        "# Remplacement des valeurs manquantes par la moyenne ou une valeur intermédiaire\n",
        "for col in ['area', 'bedrooms', 'bathrooms', 'stories'] + categorical_vars:\n",
        "    if data[col].isnull().any():\n",
        "        if data[col].dtype == np.number:\n",
        "            data[col].fillna(data[col].mean(), inplace=True)\n",
        "        else:\n",
        "            data[col].fillna(0.5, inplace=True)  # pour les variables catégorielles avec des valeurs manquantes"
      ],
      "metadata": {
        "id": "Dzwy0rDtlz23"
      },
      "execution_count": 3,
      "outputs": []
    },
    {
      "cell_type": "code",
      "source": [
        "# Préparation des ensembles de données d'entraînement et de test\n",
        "X = data.drop('price', axis=1)\n",
        "y = data['price']\n",
        "X_train, X_test, y_train, y_test = train_test_split(X, y, test_size=0.2, random_state=42)"
      ],
      "metadata": {
        "id": "B-8Nr1Wnl5GO"
      },
      "execution_count": 4,
      "outputs": []
    },
    {
      "cell_type": "code",
      "source": [
        "# Entraînement du modèle linéaire\n",
        "model = LinearRegression().fit(X_train, y_train)"
      ],
      "metadata": {
        "id": "QUbMoDRFl5TH"
      },
      "execution_count": 5,
      "outputs": []
    },
    {
      "cell_type": "code",
      "source": [
        "# Évaluation du modèle\n",
        "predictions = model.predict(X_test)\n",
        "r2 = r2_score(y_test, predictions)\n",
        "print(f\"Coefficient de détermination R2 : {r2}\")"
      ],
      "metadata": {
        "colab": {
          "base_uri": "https://localhost:8080/"
        },
        "id": "xV3Fb2Kwlz6S",
        "outputId": "ebe44f69-1c98-41f7-9c5e-2f2c53cae6ee"
      },
      "execution_count": 6,
      "outputs": [
        {
          "output_type": "stream",
          "name": "stdout",
          "text": [
            "Coefficient de détermination R2 : 0.6419909931610206\n"
          ]
        }
      ]
    },
    {
      "cell_type": "code",
      "source": [
        "# Création de l'application Flask pour l'accès via API\n",
        "app = Flask(__name__)\n",
        "\n",
        "# Utilisez seulement le chemin relatif après l'adresse de base et le port\n",
        "@app.route('/predict', methods=['GET'])\n",
        "def predict():\n",
        "    try:\n",
        "        features = ['area', 'bedrooms', 'bathrooms', 'stories', 'mainroad', 'guestroom', 'basement', 'hotwaterheating', 'airconditioning', 'parking', 'prefarea', 'furnishingstatus']\n",
        "        input_data = np.array([[float(request.args.get(feature)) for feature in features]])\n",
        "        prediction = model.predict(input_data)[0]\n",
        "\n",
        "        return jsonify({\n",
        "            'prediction': prediction,\n",
        "            'message': 'Prédiction du prix réussie.'\n",
        "        })\n",
        "\n",
        "    except Exception as e:\n",
        "        return jsonify({\n",
        "            'error': str(e),\n",
        "            'message': 'Erreur lors de la prédiction du prix.'\n",
        "        })\n",
        "\n",
        "if __name__ == '__main__':\n",
        "    # Lorsque vous lancez l'application, Flask utilise 127.0.0.1:5000 par défaut pour le développement local\n",
        "    app.run(debug=True)\n"
      ],
      "metadata": {
        "colab": {
          "base_uri": "https://localhost:8080/"
        },
        "id": "Qm6AXJflmCmR",
        "outputId": "5d8c8140-1605-4fb5-8a40-5620f4840e6f"
      },
      "execution_count": 7,
      "outputs": [
        {
          "output_type": "stream",
          "name": "stdout",
          "text": [
            " * Serving Flask app '__main__'\n",
            " * Debug mode: on\n"
          ]
        },
        {
          "output_type": "stream",
          "name": "stderr",
          "text": [
            "INFO:werkzeug:\u001b[31m\u001b[1mWARNING: This is a development server. Do not use it in a production deployment. Use a production WSGI server instead.\u001b[0m\n",
            " * Running on http://127.0.0.1:5000\n",
            "INFO:werkzeug:\u001b[33mPress CTRL+C to quit\u001b[0m\n",
            "INFO:werkzeug: * Restarting with stat\n"
          ]
        }
      ]
    },
    {
      "cell_type": "code",
      "source": [],
      "metadata": {
        "id": "RAux92DkmCte"
      },
      "execution_count": 7,
      "outputs": []
    }
  ]
}